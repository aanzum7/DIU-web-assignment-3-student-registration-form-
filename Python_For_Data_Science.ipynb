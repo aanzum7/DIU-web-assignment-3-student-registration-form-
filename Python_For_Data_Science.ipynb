{
  "nbformat": 4,
  "nbformat_minor": 0,
  "metadata": {
    "colab": {
      "name": "Python For Data Science.ipynb",
      "provenance": [],
      "authorship_tag": "ABX9TyP2hPW535KkfcEvSdmgllmi",
      "include_colab_link": true
    },
    "kernelspec": {
      "name": "python3",
      "display_name": "Python 3"
    },
    "language_info": {
      "name": "python"
    }
  },
  "cells": [
    {
      "cell_type": "markdown",
      "metadata": {
        "id": "view-in-github",
        "colab_type": "text"
      },
      "source": [
        "<a href=\"https://colab.research.google.com/github/Anjum-cse/Assiggnment--3-_Student_Registration_Form/blob/master/Python_For_Data_Science.ipynb\" target=\"_parent\"><img src=\"https://colab.research.google.com/assets/colab-badge.svg\" alt=\"Open In Colab\"/></a>"
      ]
    },
    {
      "cell_type": "markdown",
      "metadata": {
        "id": "v2cGt6VHKyRG"
      },
      "source": [
        "***Read Different File format***"
      ]
    },
    {
      "cell_type": "code",
      "metadata": {
        "colab": {
          "base_uri": "https://localhost:8080/",
          "height": 243
        },
        "id": "GK9BF73lK6V7",
        "outputId": "2d86f2ad-b56d-42af-86f6-6d396e4131d3"
      },
      "source": [
        "import pandas as pd\n",
        "import json\n",
        "with open (\"/content/jtest.json\",'r') as openfile:\n",
        "  json_object= json.load(openfile)\n",
        "print(json_object)\n",
        "\n",
        "file= '/content/TEST.csv'\n",
        "df= pd.read_csv(file)\n",
        "df.head()\n"
      ],
      "execution_count": null,
      "outputs": [
        {
          "output_type": "stream",
          "name": "stdout",
          "text": [
            "[{'PartnerID': 7311, 'BusinessName': 'Mobile Source', 'Contact': '+8801511118899', 'Prev Cohort': 'Need Attention'}, {'PartnerID': 19496, 'BusinessName': 'Western Mobile Fair', 'Contact': '01626004444', 'Prev Cohort': 'Potential Loyalist'}, {'PartnerID': 22302, 'BusinessName': 'NB Electronics', 'Contact': '+8801610189210', 'Prev Cohort': 'Potential Loyalist'}, {'PartnerID': 22675, 'BusinessName': 'Golden Plus Electronics', 'Contact': '+8801914112984', 'Prev Cohort': 'At Risk'}, {'PartnerID': 31562, 'BusinessName': 'Power Electronics', 'Contact': '+8801828583611', 'Prev Cohort': 'Need Attention'}, {'PartnerID': 39969, 'BusinessName': 'Orange Telecom', 'Contact': '01787145659', 'Prev Cohort': 'Need Attention'}, {'PartnerID': 40137, 'BusinessName': 'Raiyan Telecom', 'Contact': '01711686000', 'Prev Cohort': 'Loyalist'}, {'PartnerID': 50082, 'BusinessName': 'Imran Electronics', 'Contact': '+8801745546444', 'Prev Cohort': 'Champion'}, {'PartnerID': 70865, 'BusinessName': 'Bhuiyan Smart Point', 'Contact': '+8801994382652', 'Prev Cohort': 'At Risk'}, {'PartnerID': 78649, 'BusinessName': 'S.M TELECOM', 'Contact': '+8801612190599', 'Prev Cohort': 'Need Attention'}, {'PartnerID': 81271, 'BusinessName': 'QK Telecom', 'Contact': '+8801768008000', 'Prev Cohort': 'Need Attention'}, {'PartnerID': 86580, 'BusinessName': 'TRR Electronices', 'Contact': '+8801919098505', 'Prev Cohort': 'Need Attention'}, {'PartnerID': 86624, 'BusinessName': 'Fahim Telecom', 'Contact': '+8801781322375', 'Prev Cohort': 'Need Attention'}, {'PartnerID': 95724, 'BusinessName': 'CYCLE MECHANIX', 'Contact': '+8801964041722', 'Prev Cohort': 'At Risk'}, {'PartnerID': 100839, 'BusinessName': 'Gadget Care BD', 'Contact': '+8801687864636', 'Prev Cohort': 'Need Attention'}, {'PartnerID': 106166, 'BusinessName': 'adiba enteprise', 'Contact': '+8801677333300', 'Prev Cohort': 'Need Attention'}, {'PartnerID': 107827, 'BusinessName': 'jubair telecom', 'Contact': '+8801783955255', 'Prev Cohort': 'Need Attention'}, {'PartnerID': 140854, 'BusinessName': 'Global mobile zone', 'Contact': '+8801939578971', 'Prev Cohort': 'At Risk'}, {'PartnerID': 141879, 'BusinessName': 'mobile gallery', 'Contact': '+8801822979797', 'Prev Cohort': 'Need Attention'}, {'PartnerID': 152368, 'BusinessName': 'Ruma Mobile Shop', 'Contact': '+8801706303310', 'Prev Cohort': 'Potential Loyalist'}, {'PartnerID': 159668, 'BusinessName': 'RN FURNITURE MIRPUR', 'Contact': '+8801912190575', 'Prev Cohort': 'Need Attention'}, {'PartnerID': 174862, 'BusinessName': 'global', 'Contact': '+8801716602558', 'Prev Cohort': 'Need Attention'}, {'PartnerID': 211137, 'BusinessName': '???? ?????? 01712855800', 'Contact': '+8801957201701', 'Prev Cohort': 'Need Attention'}, {'PartnerID': 214714, 'BusinessName': 'Duronto Sheba Limited', 'Contact': '+8801610551855', 'Prev Cohort': 'At Risk'}, {'PartnerID': 230771, 'BusinessName': 'Rabeya Electronics', 'Contact': '+8801730356010', 'Prev Cohort': 'Need Attention'}, {'PartnerID': 271007, 'BusinessName': 'MS Ayat Electronics', 'Contact': '+8801977008384', 'Prev Cohort': 'Potential Loyalist'}, {'PartnerID': 296881, 'BusinessName': 'Mobile Corner', 'Contact': '+8801856919656', 'Prev Cohort': 'Need Attention'}, {'PartnerID': 301112, 'BusinessName': 'maa janani telecom', 'Contact': '+8801735600786', 'Prev Cohort': 'Need Attention'}, {'PartnerID': 303192, 'BusinessName': 'Rew Furniture', 'Contact': '+8801743894311', 'Prev Cohort': 'Potential Loyalist'}, {'PartnerID': 322242, 'BusinessName': 'sarder enterprise', 'Contact': '+8801886222030', 'Prev Cohort': 'At Risk'}, {'PartnerID': 331570, 'BusinessName': 'Rumel Electronics', 'Contact': '+8801957299990', 'Prev Cohort': 'Loyalist'}, {'PartnerID': 350599, 'BusinessName': 'S.S Computers', 'Contact': '+8801643946107', 'Prev Cohort': 'Need Attention'}, {'PartnerID': 353414, 'BusinessName': 'COUNTRY WOOD FURNITURE', 'Contact': '+8801932197030', 'Prev Cohort': 'Need Attention'}, {'PartnerID': 372213, 'BusinessName': 'Cobite', 'Contact': '+8801711135498', 'Prev Cohort': 'Need Attention'}, {'PartnerID': 374648, 'BusinessName': 'Khan Electronic world', 'Contact': '+8801706954533', 'Prev Cohort': 'Need Attention'}, {'PartnerID': 413489, 'BusinessName': 'mobile land', 'Contact': '+8801912021626', 'Prev Cohort': 'Need Attention'}, {'PartnerID': 419041, 'BusinessName': 'Mobi hub', 'Contact': '01843311533', 'Prev Cohort': 'Need Attention'}, {'PartnerID': 428058, 'BusinessName': 'Mia electronics', 'Contact': '+8801733522636', 'Prev Cohort': 'Need Attention'}, {'PartnerID': 463574, 'BusinessName': 'Rakib Tele World', 'Contact': '01671718798', 'Prev Cohort': 'Need Attention'}, {'PartnerID': 469560, 'BusinessName': 'Md Ahad', 'Contact': '+8801681933380', 'Prev Cohort': 'Need Attention'}, {'PartnerID': 469664, 'BusinessName': 'Riders Zone BD', 'Contact': '01741871574', 'Prev Cohort': 'Potential Loyalist'}, {'PartnerID': 475895, 'BusinessName': '3g dot com', 'Contact': '01715223232', 'Prev Cohort': 'Need Attention'}, {'PartnerID': 482186, 'BusinessName': 'Sohan Telecom', 'Contact': '01728352553', 'Prev Cohort': 'Potential Loyalist'}, {'PartnerID': 489051, 'BusinessName': 'NUR JAHAN MOTORS', 'Contact': '01687621795', 'Prev Cohort': 'At Risk'}, {'PartnerID': 491899, 'BusinessName': 'Akter Electronic', 'Contact': '01711134633', 'Prev Cohort': 'Need Attention'}, {'PartnerID': 523962, 'BusinessName': 'Western electronics', 'Contact': '01723549401', 'Prev Cohort': 'Champion'}, {'PartnerID': 526852, 'BusinessName': 'SA FURNITURE GALLERY', 'Contact': '01927589490', 'Prev Cohort': 'Need Attention'}, {'PartnerID': 532682, 'BusinessName': 'GATEWAY TECHNOLOGY', 'Contact': '+8801711975917', 'Prev Cohort': 'Need Attention'}, {'PartnerID': 550732, 'BusinessName': '3 Star Mobile Zone', 'Contact': '+8801799000043', 'Prev Cohort': 'Need Attention'}, {'PartnerID': 567164, 'BusinessName': 'Diamond Plaza', 'Contact': '+8801909037055', 'Prev Cohort': 'Need Attention'}, {'PartnerID': 576934, 'BusinessName': 'Aivot Technology', 'Contact': '+8801843253106', 'Prev Cohort': 'Potential Loyalist'}, {'PartnerID': 579162, 'BusinessName': 'Voice Technologies', 'Contact': '+8801407909098', 'Prev Cohort': 'Potential Loyalist'}, {'PartnerID': 579377, 'BusinessName': 'Arafat Mobile Zone', 'Contact': '+8801921972236', 'Prev Cohort': 'Need Attention'}, {'PartnerID': 580120, 'BusinessName': 'Reliable furniture', 'Contact': '+8801948212217', 'Prev Cohort': 'At Risk'}, {'PartnerID': 580580, 'BusinessName': 'Abir Furniture', 'Contact': '+8801617800774', 'Prev Cohort': 'Need Attention'}, {'PartnerID': 583603, 'BusinessName': 'Famous Electronics', 'Contact': '+8801717577319', 'Prev Cohort': 'Need Attention'}, {'PartnerID': 588102, 'BusinessName': 'Electronics Garden', 'Contact': '+8801762996598', 'Prev Cohort': 'Need Attention'}, {'PartnerID': 598743, 'BusinessName': 'Fatema telecom', 'Contact': '+8801913583772', 'Prev Cohort': 'Need Attention'}, {'PartnerID': 598961, 'BusinessName': 'amj furniture', 'Contact': '+8801314760172', 'Prev Cohort': 'Potential Loyalist'}, {'PartnerID': 612644, 'BusinessName': 'N R TELECOM', 'Contact': '+8801739729355', 'Prev Cohort': 'Need Attention'}, {'PartnerID': 615526, 'BusinessName': 'Exclusive Furniture', 'Contact': '+8801919475776', 'Prev Cohort': 'Need Attention'}, {'PartnerID': 618253, 'BusinessName': 'IDEA GADGET', 'Contact': '+8801792475959', 'Prev Cohort': 'Need Attention'}, {'PartnerID': 618260, 'BusinessName': '?????? ????????????', 'Contact': '+8801727841557', 'Prev Cohort': 'Need Attention'}, {'PartnerID': 624104, 'BusinessName': '????? ????? ??????', 'Contact': '+8801818717171', 'Prev Cohort': 'Need Attention'}, {'PartnerID': 637994, 'BusinessName': 'Electro Mela', 'Contact': '+8801919260077', 'Prev Cohort': 'Need Attention'}, {'PartnerID': 645488, 'BusinessName': 'Rosebay Corporation', 'Contact': '+8801680938360', 'Prev Cohort': 'Need Attention'}, {'PartnerID': 647657, 'BusinessName': 'bismillah Telecom', 'Contact': '+8801671676020', 'Prev Cohort': 'At Risk'}, {'PartnerID': 661092, 'BusinessName': 'm.v electronics', 'Contact': '+8801766153741', 'Prev Cohort': 'Need Attention'}, {'PartnerID': 666725, 'BusinessName': 'S,S TELECOM', 'Contact': '+8801720424444', 'Prev Cohort': 'Need Attention'}, {'PartnerID': 678346, 'BusinessName': 'Ks Gadget BD', 'Contact': '+8801303183901', 'Prev Cohort': 'Need Attention'}, {'PartnerID': 680048, 'BusinessName': 'Mobile Point', 'Contact': '+8801717141678', 'Prev Cohort': 'Potential Loyalist'}, {'PartnerID': 686219, 'BusinessName': 'Citytel', 'Contact': '+8801616664440', 'Prev Cohort': 'Potential Loyalist'}, {'PartnerID': 693360, 'BusinessName': 'Apon Electronics', 'Contact': '+8801727890019', 'Prev Cohort': 'Need Attention'}, {'PartnerID': 709155, 'BusinessName': 'Mobile Network', 'Contact': '+8801674416355', 'Prev Cohort': 'Need Attention'}, {'PartnerID': 711394, 'BusinessName': 'Global Communication', 'Contact': '+8801712655922', 'Prev Cohort': 'Champion'}, {'PartnerID': 717194, 'BusinessName': 'Tarif Telecom', 'Contact': '+8801996020998', 'Prev Cohort': 'Potential Loyalist'}, {'PartnerID': 720485, 'BusinessName': 'S A Electronics', 'Contact': '+8801823763379', 'Prev Cohort': 'At Risk'}, {'PartnerID': 721733, 'BusinessName': 'Rofia furniture', 'Contact': '+8801923652417', 'Prev Cohort': 'At Risk'}, {'PartnerID': 722299, 'BusinessName': 'MOBILELIF', 'Contact': '+8801976908058', 'Prev Cohort': 'Loyalist'}, {'PartnerID': 733120, 'BusinessName': 'Phonomania', 'Contact': '+8801711832444', 'Prev Cohort': 'Need Attention'}, {'PartnerID': 735533, 'BusinessName': 'JP Communication', 'Contact': '+8801758104948', 'Prev Cohort': 'Need Attention'}, {'PartnerID': 735602, 'BusinessName': 'ASIAN SKY SHOP', 'Contact': '+8801974295537', 'Prev Cohort': 'Need Attention'}, {'PartnerID': 736595, 'BusinessName': 'M.R Telecom', 'Contact': '+8801713662122', 'Prev Cohort': 'Champion'}, {'PartnerID': 736852, 'BusinessName': 'MOBILE HOME', 'Contact': '+8801924485686', 'Prev Cohort': 'Need Attention'}, {'PartnerID': 738698, 'BusinessName': 'J.M FURNITURE', 'Contact': '+8801703552014', 'Prev Cohort': 'At Risk'}, {'PartnerID': 743954, 'BusinessName': 'Kanchpur Furniture', 'Contact': '+8801715402090', 'Prev Cohort': 'Need Attention'}, {'PartnerID': 753766, 'BusinessName': 'Bhai Bhai Furniture  BD', 'Contact': '+8801712991695', 'Prev Cohort': 'Potential Loyalist'}, {'PartnerID': 768551, 'BusinessName': 'MAHBUB ELECTRONICS', 'Contact': '+8801683099066', 'Prev Cohort': 'Potential Loyalist'}, {'PartnerID': 769022, 'BusinessName': 'M.R. Enterprise', 'Contact': '+8801793258830', 'Prev Cohort': 'Need Attention'}, {'PartnerID': 771546, 'BusinessName': 'CDS IT Limited', 'Contact': '+8801712008574', 'Prev Cohort': 'Need Attention'}, {'PartnerID': 780485, 'BusinessName': 'Rajlaxmi Jewellers', 'Contact': '+8801746383088', 'Prev Cohort': 'Need Attention'}, {'PartnerID': 783110, 'BusinessName': 'Ayat enterprise', 'Contact': '+8801612149411', 'Prev Cohort': 'Need Attention'}, {'PartnerID': 791560, 'BusinessName': 'Nexus communication', 'Contact': '+8801716062685', 'Prev Cohort': 'Need Attention'}, {'PartnerID': 793932, 'BusinessName': 'Raisa Telecom', 'Contact': '+8801884696474', 'Prev Cohort': 'Champion'}, {'PartnerID': 800781, 'BusinessName': 'Maa Furniture', 'Contact': '+8801813999742', 'Prev Cohort': 'Need Attention'}, {'PartnerID': 804738, 'BusinessName': 'Saba International', 'Contact': '+8801874908890', 'Prev Cohort': 'Need Attention'}, {'PartnerID': 806913, 'BusinessName': 'surah telecom', 'Contact': '+8801777558012', 'Prev Cohort': 'Need Attention'}, {'PartnerID': 836696, 'BusinessName': 'Faysal Telecom', 'Contact': '+8801611575899', 'Prev Cohort': 'Need Attention'}, {'PartnerID': 837203, 'BusinessName': 'Zam Zam Furniture BD', 'Contact': '+8801636167839', 'Prev Cohort': 'Need Attention'}, {'PartnerID': 839196, 'BusinessName': 'ANMOL SHOP BD', 'Contact': '+8801819626050', 'Prev Cohort': 'Potential Loyalist'}, {'PartnerID': 874865, 'BusinessName': 'GSM Lab', 'Contact': '+8801817714217', 'Prev Cohort': 'Need Attention'}, {'PartnerID': 887812, 'BusinessName': 'Active Elections', 'Contact': '+8801311925077', 'Prev Cohort': 'Need Attention'}, {'PartnerID': 916806, 'BusinessName': 'S A Telecom', 'Contact': '+8801611154578', 'Prev Cohort': 'Need Attention'}, {'PartnerID': 919277, 'BusinessName': 'Bhai Bhai Electronics', 'Contact': '+8801817619203', 'Prev Cohort': 'Need Attention'}, {'PartnerID': 919788, 'BusinessName': 'Powerline Computer', 'Contact': '+8801708558155', 'Prev Cohort': 'At Risk'}, {'PartnerID': 920012, 'BusinessName': 'Binodan Furnishers', 'Contact': '+8801521709981', 'Prev Cohort': 'Need Attention'}, {'PartnerID': 931299, 'BusinessName': 'S.R.B FURNITURE', 'Contact': '+8801783396171', 'Prev Cohort': 'At Risk'}, {'PartnerID': 947522, 'BusinessName': '???????- THE STORE HOUSE', 'Contact': '+8801317773232', 'Prev Cohort': 'Potential Loyalist'}, {'PartnerID': 952094, 'BusinessName': 'MOLLA TRADERS', 'Contact': '+8801743303354', 'Prev Cohort': 'Need Attention'}, {'PartnerID': 955280, 'BusinessName': 'FurniTouch', 'Contact': '+8801317490597', 'Prev Cohort': 'Need Attention'}, {'PartnerID': 955745, 'BusinessName': 'Flash Gadget Gang', 'Contact': '+8801713660334', 'Prev Cohort': 'Potential Loyalist'}, {'PartnerID': 959809, 'BusinessName': 'Phone Library', 'Contact': '+8801312898321', 'Prev Cohort': 'Need Attention'}, {'PartnerID': 976647, 'BusinessName': '????????', 'Contact': '+8801737248284', 'Prev Cohort': 'Potential Loyalist'}, {'PartnerID': 734, 'BusinessName': 'ASNA INFINITY', 'Contact': '+8801956606592', 'Prev Cohort': 'Potential Loyalist'}, {'PartnerID': 4069, 'BusinessName': 'Shamim Electronic', 'Contact': '+8801915634008', 'Prev Cohort': 'Potential Loyalist'}, {'PartnerID': 4755, 'BusinessName': 'Nandonik Electronics', 'Contact': '+8801922557730', 'Prev Cohort': 'Potential Loyalist'}, {'PartnerID': 7626, 'BusinessName': 'Kazi Technology', 'Contact': '+8801866551277', 'Prev Cohort': 'Potential Loyalist'}, {'PartnerID': 46312, 'BusinessName': 'HASSAN FURNITURE', 'Contact': '+8801764672105', 'Prev Cohort': 'Potential Loyalist'}, {'PartnerID': 46315, 'BusinessName': 'Shikder Furniture', 'Contact': '+8801715734982', 'Prev Cohort': 'Potential Loyalist'}, {'PartnerID': 52197, 'BusinessName': 'Amar Tech', 'Contact': '+8801877991115', 'Prev Cohort': 'Need Attention'}, {'PartnerID': 66797, 'BusinessName': 'Mobile Hall-2', 'Contact': '01675307030', 'Prev Cohort': 'Potential Loyalist'}, {'PartnerID': 69270, 'BusinessName': 'BM COMPUTER TECHNOLOGY LTD.', 'Contact': '+8801707478959', 'Prev Cohort': 'Potential Loyalist'}, {'PartnerID': 74875, 'BusinessName': 'Mobile Factory', 'Contact': '01718413146', 'Prev Cohort': 'Need Attention'}, {'PartnerID': 82217, 'BusinessName': 'POPCORN IT', 'Contact': '+8801717256199', 'Prev Cohort': 'Potential Loyalist'}, {'PartnerID': 86794, 'BusinessName': 'islamic Furniture Ltd', 'Contact': '+8801830993087', 'Prev Cohort': 'Potential Loyalist'}, {'PartnerID': 97967, 'BusinessName': 'joy electronics', 'Contact': '+8801619809080', 'Prev Cohort': 'Need Attention'}, {'PartnerID': 121331, 'BusinessName': 'South Street Computers', 'Contact': '+8801708528803', 'Prev Cohort': 'At Risk'}, {'PartnerID': 127532, 'BusinessName': 'Cell Phone Aid', 'Contact': '+8801726150145', 'Prev Cohort': 'Need Attention'}, {'PartnerID': 180368, 'BusinessName': 'sohag mobile fair', 'Contact': '+8801838399450', 'Prev Cohort': 'Potential Loyalist'}, {'PartnerID': 184928, 'BusinessName': 'phone N gadget', 'Contact': '+8801763126044', 'Prev Cohort': 'Need Attention'}, {'PartnerID': 192577, 'BusinessName': 'F Farook Trade Int', 'Contact': '+8801776263084', 'Prev Cohort': 'Need Attention'}, {'PartnerID': 210683, 'BusinessName': 'Joya Talecom', 'Contact': '+8801829831274', 'Prev Cohort': 'Need Attention'}, {'PartnerID': 286327, 'BusinessName': 'ROKAN ELECTRONICS', 'Contact': '+8801711197249', 'Prev Cohort': 'Need Attention'}, {'PartnerID': 303158, 'BusinessName': 'Bq Trading', 'Contact': '+8801788754372', 'Prev Cohort': 'Potential Loyalist'}, {'PartnerID': 314489, 'BusinessName': 'LAPTOP ZONE BD', 'Contact': '+8801858339597', 'Prev Cohort': 'Potential Loyalist'}, {'PartnerID': 356837, 'BusinessName': 'RIO TELECOM & ACCESSORIES', 'Contact': '+8801611494969', 'Prev Cohort': 'Potential Loyalist'}, {'PartnerID': 357349, 'BusinessName': 'MOBILE WORLD', 'Contact': '+8801633732325', 'Prev Cohort': 'Potential Loyalist'}, {'PartnerID': 372618, 'BusinessName': 'PHONES 4U', 'Contact': '+8801912494448', 'Prev Cohort': 'Need Attention'}, {'PartnerID': 388837, 'BusinessName': 'Shajalal Smart Shop', 'Contact': '+8801976765757', 'Prev Cohort': 'Potential Loyalist'}, {'PartnerID': 403775, 'BusinessName': 'Akhtab Gadget Zone', 'Contact': '+8801675446252', 'Prev Cohort': 'Potential Loyalist'}, {'PartnerID': 406812, 'BusinessName': 'MOBILE LAND -4', 'Contact': '+8801732755565', 'Prev Cohort': 'Potential Loyalist'}, {'PartnerID': 409350, 'BusinessName': 'MOBILE MELA', 'Contact': '+8801718992494', 'Prev Cohort': 'Loyalist'}, {'PartnerID': 444990, 'BusinessName': 'ZooXon shop', 'Contact': '+8801911016155', 'Prev Cohort': 'Potential Loyalist'}, {'PartnerID': 452035, 'BusinessName': 'B.M.A ELECTRONICS coffee', 'Contact': '01979399992', 'Prev Cohort': 'Need Attention'}, {'PartnerID': 452536, 'BusinessName': 'SOHEL TELECOM', 'Contact': '01721199779', 'Prev Cohort': 'Need Attention'}, {'PartnerID': 456993, 'BusinessName': \"The Cake's Creation\", 'Contact': '+8801400845320', 'Prev Cohort': 'At Risk'}, {'PartnerID': 463492, 'BusinessName': 'RAISHA Telecom', 'Contact': '01712556778', 'Prev Cohort': 'Need Attention'}, {'PartnerID': 475813, 'BusinessName': 'imperium gadgets', 'Contact': '01718903171', 'Prev Cohort': 'Potential Loyalist'}, {'PartnerID': 485515, 'BusinessName': 'Laptop BD', 'Contact': '01707838833', 'Prev Cohort': 'At Risk'}, {'PartnerID': 491642, 'BusinessName': 'Rahim electronics', 'Contact': '+8801829422451', 'Prev Cohort': 'Potential Loyalist'}, {'PartnerID': 494972, 'BusinessName': 'ANJ GADGET', 'Contact': '+8801795640825', 'Prev Cohort': 'Potential Loyalist'}, {'PartnerID': 498560, 'BusinessName': 'Alizaa Mart', 'Contact': '01715964866', 'Prev Cohort': 'Need Attention'}, {'PartnerID': 501082, 'BusinessName': 'Mobile Mela', 'Contact': '+8801718992494', 'Prev Cohort': 'Loyalist'}, {'PartnerID': 505962, 'BusinessName': 'Shamin Telecom', 'Contact': '+8801675800856', 'Prev Cohort': 'Need Attention'}, {'PartnerID': 511097, 'BusinessName': 'Babur Dukan', 'Contact': '+8801816767679', 'Prev Cohort': 'Potential Loyalist'}, {'PartnerID': 511801, 'BusinessName': 'Home Wood Furniture', 'Contact': '01914177499', 'Prev Cohort': 'Need Attention'}, {'PartnerID': 514815, 'BusinessName': 'Grihasaj Furniture', 'Contact': '+8801683330093', 'Prev Cohort': 'Champion'}, {'PartnerID': 514896, 'BusinessName': 'BM Corparation', 'Contact': '01911119862', 'Prev Cohort': 'Need Attention'}, {'PartnerID': 524721, 'BusinessName': 'Gadget Hub', 'Contact': '01644451292', 'Prev Cohort': 'Potential Loyalist'}, {'PartnerID': 526822, 'BusinessName': 'Sarkar mobile corner', 'Contact': '01933170714', 'Prev Cohort': 'At Risk'}, {'PartnerID': 537080, 'BusinessName': 'Asian Sports', 'Contact': '+8801720948010', 'Prev Cohort': 'Need Attention'}, {'PartnerID': 540413, 'BusinessName': 'Mariyam Electronics', 'Contact': '+8801799874441', 'Prev Cohort': 'Need Attention'}, {'PartnerID': 549898, 'BusinessName': 'Mobile Plaza', 'Contact': '+8801729588245', 'Prev Cohort': 'Need Attention'}, {'PartnerID': 550028, 'BusinessName': 'FURNITURE TOWN BD', 'Contact': '+8801728446788', 'Prev Cohort': 'Potential Loyalist'}, {'PartnerID': 567726, 'BusinessName': 'Unity Furniture', 'Contact': '+8801948097540', 'Prev Cohort': 'Potential Loyalist'}, {'PartnerID': 571160, 'BusinessName': 'First choice Furniture', 'Contact': '+8801739422249', 'Prev Cohort': 'Need Attention'}, {'PartnerID': 571737, 'BusinessName': 'ZARA international', 'Contact': '+8801611178123', 'Prev Cohort': 'Potential Loyalist'}, {'PartnerID': 580336, 'BusinessName': 'Excel Telecom and Electronics', 'Contact': '+8801644411555', 'Prev Cohort': 'At Risk'}, {'PartnerID': 595764, 'BusinessName': 'Mobile Point', 'Contact': '+8801717141678', 'Prev Cohort': 'Potential Loyalist'}, {'PartnerID': 595843, 'BusinessName': 'Quality Electronics', 'Contact': '+8801712291826', 'Prev Cohort': 'Need Attention'}, {'PartnerID': 597158, 'BusinessName': 'Barcode Source', 'Contact': '+8801778988000', 'Prev Cohort': 'At Risk'}, {'PartnerID': 603410, 'BusinessName': 'Nore Def', 'Contact': '+8801711322340', 'Prev Cohort': 'Need Attention'}, {'PartnerID': 610391, 'BusinessName': 'ARYA MOTORS', 'Contact': '+8801819207263', 'Prev Cohort': 'Potential Loyalist'}, {'PartnerID': 620774, 'BusinessName': 'M/S SHILPI FURNITURE', 'Contact': '+8801842117017', 'Prev Cohort': 'Potential Loyalist'}, {'PartnerID': 641516, 'BusinessName': 'Suravi Telecom', 'Contact': '+8801912444553', 'Prev Cohort': 'Need Attention'}, {'PartnerID': 654493, 'BusinessName': 'Subina Furniture', 'Contact': '+8801773812270', 'Prev Cohort': 'Potential Loyalist'}, {'PartnerID': 654833, 'BusinessName': 'SNS', 'Contact': '+8801963513352', 'Prev Cohort': 'Potential Loyalist'}, {'PartnerID': 667260, 'BusinessName': 'Shuvo Steel House', 'Contact': '+8801892381414', 'Prev Cohort': 'Potential Loyalist'}, {'PartnerID': 667482, 'BusinessName': 'AYAT TELE COME', 'Contact': '+8801711128794', 'Prev Cohort': 'At Risk'}, {'PartnerID': 674614, 'BusinessName': 'TECH SUPPORT & SOLUTION', 'Contact': '+8801708178291', 'Prev Cohort': 'Need Attention'}, {'PartnerID': 678116, 'BusinessName': 'Mobstyle', 'Contact': '+8801720032294', 'Prev Cohort': 'Need Attention'}, {'PartnerID': 680425, 'BusinessName': 'Computer Device & Technology', 'Contact': '+8801711876561', 'Prev Cohort': 'Potential Loyalist'}, {'PartnerID': 684313, 'BusinessName': 'Sun Smart Zone', 'Contact': '+8801714929327', 'Prev Cohort': 'Need Attention'}, {'PartnerID': 688021, 'BusinessName': '3D Electronics Online Smartphone  Store', 'Contact': '+8801829247785', 'Prev Cohort': 'Need Attention'}, {'PartnerID': 692983, 'BusinessName': 'NS Mobile Trsde', 'Contact': '+8801915387777', 'Prev Cohort': 'Potential Loyalist'}, {'PartnerID': 699916, 'BusinessName': 'Home Decor', 'Contact': '+8801715287749', 'Prev Cohort': 'Potential Loyalist'}, {'PartnerID': 703173, 'BusinessName': 'Orbik International Showroom', 'Contact': '+8801712399923', 'Prev Cohort': 'Need Attention'}, {'PartnerID': 706437, 'BusinessName': 'PQ', 'Contact': '+8801682989802', 'Prev Cohort': 'Potential Loyalist'}, {'PartnerID': 711608, 'BusinessName': 'Future Tech', 'Contact': '+8801752229922', 'Prev Cohort': 'Potential Loyalist'}, {'PartnerID': 717279, 'BusinessName': 'BD Mobile Generation', 'Contact': '+8801618118881', 'Prev Cohort': 'Potential Loyalist'}, {'PartnerID': 729333, 'BusinessName': 'Rupali Electronics', 'Contact': '+8801713008434', 'Prev Cohort': 'Potential Loyalist'}, {'PartnerID': 729734, 'BusinessName': 'RAJBITA TELECOM', 'Contact': '+8801822192411', 'Prev Cohort': 'Potential Loyalist'}, {'PartnerID': 729831, 'BusinessName': 'SmartLink Naogaon', 'Contact': '+8801825534148', 'Prev Cohort': 'At Risk'}, {'PartnerID': 730090, 'BusinessName': 'Best Security', 'Contact': '+8801613840600', 'Prev Cohort': 'Need Attention'}, {'PartnerID': 733163, 'BusinessName': 'Global Mobile and Gadget', 'Contact': '+8801817636339', 'Prev Cohort': 'Need Attention'}, {'PartnerID': 738518, 'BusinessName': 'Abid Telecom', 'Contact': '+8801676764040', 'Prev Cohort': 'Need Attention'}, {'PartnerID': 738916, 'BusinessName': 'NOOR IT', 'Contact': '+8801712397946', 'Prev Cohort': 'Need Attention'}, {'PartnerID': 750083, 'BusinessName': 'Bibek Telecom', 'Contact': '+8801822562233', 'Prev Cohort': 'Need Attention'}, {'PartnerID': 750373, 'BusinessName': 'MASHNOONS LTD.', 'Contact': '+8801841172225', 'Prev Cohort': 'Need Attention'}, {'PartnerID': 752231, 'BusinessName': 'www.aunna.com.bd', 'Contact': '+8801747867435', 'Prev Cohort': 'Potential Loyalist'}, {'PartnerID': 756984, 'BusinessName': 'Mohona Enterprise', 'Contact': '+8801712798039', 'Prev Cohort': 'Need Attention'}, {'PartnerID': 760709, 'BusinessName': 'ALIBABA DOOR', 'Contact': '+8801671090242', 'Prev Cohort': 'Need Attention'}, {'PartnerID': 775922, 'BusinessName': 'Bismillah Mobile Point', 'Contact': '+8801944200618', 'Prev Cohort': 'Potential Loyalist'}, {'PartnerID': 784161, 'BusinessName': 'Wood Shop Door & Furniture', 'Contact': '+8801977741666', 'Prev Cohort': 'Need Attention'}, {'PartnerID': 786895, 'BusinessName': 'Metro World', 'Contact': '+8801670852107', 'Prev Cohort': 'At Risk'}, {'PartnerID': 800417, 'BusinessName': 'MM Computer', 'Contact': '+8801914099661', 'Prev Cohort': 'Potential Loyalist'}, {'PartnerID': 815263, 'BusinessName': 'After Market BD', 'Contact': '+8801974474912', 'Prev Cohort': 'At Risk'}, {'PartnerID': 881314, 'BusinessName': 'Talukder Mobile Shop', 'Contact': '+8801945121212', 'Prev Cohort': 'Need Attention'}, {'PartnerID': 887873, 'BusinessName': 'MARDI TELECOM', 'Contact': '+8801552319618', 'Prev Cohort': 'Potential Loyalist'}, {'PartnerID': 888017, 'BusinessName': 'Fresh Touch Telecom', 'Contact': '+8801777083300', 'Prev Cohort': 'Potential Loyalist'}, {'PartnerID': 896803, 'BusinessName': 'RS COMPUTERS SYSTEM', 'Contact': '+8801740909872', 'Prev Cohort': 'At Risk'}, {'PartnerID': 912506, 'BusinessName': 'Access Point (Urban)', 'Contact': '+8801747020022', 'Prev Cohort': 'Potential Loyalist'}, {'PartnerID': 918236, 'BusinessName': 'Power Telecom-3', 'Contact': '+8801626455324', 'Prev Cohort': 'Potential Loyalist'}, {'PartnerID': 921691, 'BusinessName': 'Jony Gadget Store', 'Contact': '+8801716244155', 'Prev Cohort': 'At Risk'}, {'PartnerID': 940261, 'BusinessName': 'Rowtech', 'Contact': '+8801812257100', 'Prev Cohort': 'Need Attention'}, {'PartnerID': 940426, 'BusinessName': 'NEW CLASSIC UD & STIIL FURNITURE', 'Contact': '+8801625176082', 'Prev Cohort': 'Need Attention'}, {'PartnerID': 940679, 'BusinessName': 'Revzila Autos', 'Contact': '+8801883422948', 'Prev Cohort': 'Potential Loyalist'}, {'PartnerID': 945233, 'BusinessName': 'E-Shop', 'Contact': '+8801837779595', 'Prev Cohort': 'Need Attention'}, {'PartnerID': 946356, 'BusinessName': 'Tech Today', 'Contact': '+8801844177587', 'Prev Cohort': 'Need Attention'}, {'PartnerID': 976588, 'BusinessName': 'Online center', 'Contact': '+8801939460235', 'Prev Cohort': 'At Risk'}, {'PartnerID': 1018919, 'BusinessName': 'Gadget Exchange Point', 'Contact': '+8801963167260', 'Prev Cohort': 'Need Attention'}, {'PartnerID': 1022779, 'BusinessName': 'ZARIF INTERNATIONAL', 'Contact': '+8801819435660', 'Prev Cohort': 'Potential Loyalist'}, {'PartnerID': 1028258, 'BusinessName': 'Shaan Communication', 'Contact': '+8801866220022', 'Prev Cohort': 'Potential Loyalist'}, {'PartnerID': 1033526, 'BusinessName': 'Gold World Diamond', 'Contact': '+8801711236457', 'Prev Cohort': 'Champion'}]\n"
          ]
        },
        {
          "output_type": "execute_result",
          "data": {
            "text/html": [
              "<div>\n",
              "<style scoped>\n",
              "    .dataframe tbody tr th:only-of-type {\n",
              "        vertical-align: middle;\n",
              "    }\n",
              "\n",
              "    .dataframe tbody tr th {\n",
              "        vertical-align: top;\n",
              "    }\n",
              "\n",
              "    .dataframe thead th {\n",
              "        text-align: right;\n",
              "    }\n",
              "</style>\n",
              "<table border=\"1\" class=\"dataframe\">\n",
              "  <thead>\n",
              "    <tr style=\"text-align: right;\">\n",
              "      <th></th>\n",
              "      <th>PartnerID</th>\n",
              "      <th>BusinessName</th>\n",
              "      <th>Contact</th>\n",
              "      <th>Prev Cohort</th>\n",
              "    </tr>\n",
              "  </thead>\n",
              "  <tbody>\n",
              "    <tr>\n",
              "      <th>0</th>\n",
              "      <td>7311</td>\n",
              "      <td>Mobile Source</td>\n",
              "      <td>8801511118899</td>\n",
              "      <td>Need Attention</td>\n",
              "    </tr>\n",
              "    <tr>\n",
              "      <th>1</th>\n",
              "      <td>19496</td>\n",
              "      <td>Western Mobile Fair</td>\n",
              "      <td>1626004444</td>\n",
              "      <td>Potential Loyalist</td>\n",
              "    </tr>\n",
              "    <tr>\n",
              "      <th>2</th>\n",
              "      <td>22302</td>\n",
              "      <td>NB Electronics</td>\n",
              "      <td>8801610189210</td>\n",
              "      <td>Potential Loyalist</td>\n",
              "    </tr>\n",
              "    <tr>\n",
              "      <th>3</th>\n",
              "      <td>22675</td>\n",
              "      <td>Golden Plus Electronics</td>\n",
              "      <td>8801914112984</td>\n",
              "      <td>At Risk</td>\n",
              "    </tr>\n",
              "    <tr>\n",
              "      <th>4</th>\n",
              "      <td>31562</td>\n",
              "      <td>Power Electronics</td>\n",
              "      <td>8801828583611</td>\n",
              "      <td>Need Attention</td>\n",
              "    </tr>\n",
              "  </tbody>\n",
              "</table>\n",
              "</div>"
            ],
            "text/plain": [
              "   PartnerID             BusinessName        Contact         Prev Cohort\n",
              "0       7311            Mobile Source  8801511118899      Need Attention\n",
              "1      19496      Western Mobile Fair     1626004444  Potential Loyalist\n",
              "2      22302           NB Electronics  8801610189210  Potential Loyalist\n",
              "3      22675  Golden Plus Electronics  8801914112984             At Risk\n",
              "4      31562        Power Electronics  8801828583611      Need Attention"
            ]
          },
          "metadata": {},
          "execution_count": 18
        }
      ]
    },
    {
      "cell_type": "markdown",
      "metadata": {
        "id": "rjvj88xCJwS8"
      },
      "source": [
        "***Get all Links From a Webpages***"
      ]
    },
    {
      "cell_type": "code",
      "metadata": {
        "id": "bB_HuOxSIjYK",
        "colab": {
          "base_uri": "https://localhost:8080/"
        },
        "outputId": "0b112820-b3d3-47de-e67e-0ebbc90e79b0"
      },
      "source": [
        "import requests\n",
        "!pip install beautifulsoup4\n",
        "from bs4 import BeautifulSoup\n",
        "\n",
        "\n",
        "url= 'https://tanvir-anzum.web.app/'\n",
        "r=requests.get(url)\n",
        "r.status_code\n",
        "page= requests.get('https://tanvir-anzum.web.app/').text \n",
        "soup= BeautifulSoup(page,'html.parser')\n",
        "addresses= soup.find_all('a')\n",
        "for address in addresses:\n",
        "    name= address.contents[0]\n",
        "    fulllink= address.get('href')\n",
        "    print(name)\n",
        "    print(fulllink)"
      ],
      "execution_count": null,
      "outputs": [
        {
          "output_type": "stream",
          "name": "stdout",
          "text": [
            "Requirement already satisfied: beautifulsoup4 in /usr/local/lib/python3.7/dist-packages (4.6.3)\n"
          ]
        }
      ]
    },
    {
      "cell_type": "markdown",
      "metadata": {
        "id": "7AWmKmunKnwj"
      },
      "source": [
        "***Others Example***"
      ]
    },
    {
      "cell_type": "code",
      "metadata": {
        "id": "hXA8D1brKkJ7"
      },
      "source": [
        "import pandas as pd\n",
        "import numpy as np\n",
        "!pip install pycoingecko\n",
        "from pycoingecko import CoinGeckoAPI\n",
        "!pip install ibm-watson\n",
        "from ibm_watson import SpeechToTextV1"
      ],
      "execution_count": null,
      "outputs": []
    },
    {
      "cell_type": "code",
      "metadata": {
        "colab": {
          "base_uri": "https://localhost:8080/",
          "height": 49
        },
        "id": "xJ8f6wLgvbe1",
        "outputId": "647e3768-4529-4677-eb9e-9f22360bc0f1"
      },
      "source": [
        "cg= CoinGeckoAPI()\n",
        "bitcoinINFO =cg.get_coin_market_chart_by_id(id='bitcoin',vs_currency='usd',days=10)\n",
        "bitcoinINFO\n",
        "data=pd.DataFrame(bitcoinINFO, columns=['Times','Price'])\n",
        "data['Date']= pd.to_datetime(data['Times'],unit='ms')\n",
        "data\n"
      ],
      "execution_count": null,
      "outputs": [
        {
          "output_type": "execute_result",
          "data": {
            "text/html": [
              "<div>\n",
              "<style scoped>\n",
              "    .dataframe tbody tr th:only-of-type {\n",
              "        vertical-align: middle;\n",
              "    }\n",
              "\n",
              "    .dataframe tbody tr th {\n",
              "        vertical-align: top;\n",
              "    }\n",
              "\n",
              "    .dataframe thead th {\n",
              "        text-align: right;\n",
              "    }\n",
              "</style>\n",
              "<table border=\"1\" class=\"dataframe\">\n",
              "  <thead>\n",
              "    <tr style=\"text-align: right;\">\n",
              "      <th></th>\n",
              "      <th>Times</th>\n",
              "      <th>Price</th>\n",
              "      <th>Date</th>\n",
              "    </tr>\n",
              "  </thead>\n",
              "  <tbody>\n",
              "  </tbody>\n",
              "</table>\n",
              "</div>"
            ],
            "text/plain": [
              "Empty DataFrame\n",
              "Columns: [Times, Price, Date]\n",
              "Index: []"
            ]
          },
          "metadata": {},
          "execution_count": 41
        }
      ]
    },
    {
      "cell_type": "code",
      "metadata": {
        "colab": {
          "base_uri": "https://localhost:8080/",
          "height": 206
        },
        "id": "vuTNPF2TIw_2",
        "outputId": "500773d6-d397-4b0e-9b6b-05acc73bddc3"
      },
      "source": [
        "csv_path= \"/RFME_Prev_Two_Month.csv\"\n",
        "df= pd.read_csv(csv_path)\n",
        "df.head()\n"
      ],
      "execution_count": null,
      "outputs": [
        {
          "output_type": "execute_result",
          "data": {
            "text/html": [
              "<div>\n",
              "<style scoped>\n",
              "    .dataframe tbody tr th:only-of-type {\n",
              "        vertical-align: middle;\n",
              "    }\n",
              "\n",
              "    .dataframe tbody tr th {\n",
              "        vertical-align: top;\n",
              "    }\n",
              "\n",
              "    .dataframe thead th {\n",
              "        text-align: right;\n",
              "    }\n",
              "</style>\n",
              "<table border=\"1\" class=\"dataframe\">\n",
              "  <thead>\n",
              "    <tr style=\"text-align: right;\">\n",
              "      <th></th>\n",
              "      <th>PartnerID</th>\n",
              "      <th>BusinessName</th>\n",
              "      <th>Contact</th>\n",
              "      <th>Prev Cohort</th>\n",
              "    </tr>\n",
              "  </thead>\n",
              "  <tbody>\n",
              "    <tr>\n",
              "      <th>0</th>\n",
              "      <td>7311</td>\n",
              "      <td>Mobile Source</td>\n",
              "      <td>8801511118899</td>\n",
              "      <td>Need Attention</td>\n",
              "    </tr>\n",
              "    <tr>\n",
              "      <th>1</th>\n",
              "      <td>19496</td>\n",
              "      <td>Western Mobile Fair</td>\n",
              "      <td>1626004444</td>\n",
              "      <td>Potential Loyalist</td>\n",
              "    </tr>\n",
              "    <tr>\n",
              "      <th>2</th>\n",
              "      <td>22302</td>\n",
              "      <td>NB Electronics</td>\n",
              "      <td>8801610189210</td>\n",
              "      <td>Potential Loyalist</td>\n",
              "    </tr>\n",
              "    <tr>\n",
              "      <th>3</th>\n",
              "      <td>22675</td>\n",
              "      <td>Golden Plus Electronics</td>\n",
              "      <td>8801914112984</td>\n",
              "      <td>At Risk</td>\n",
              "    </tr>\n",
              "    <tr>\n",
              "      <th>4</th>\n",
              "      <td>31562</td>\n",
              "      <td>Power Electronics</td>\n",
              "      <td>8801828583611</td>\n",
              "      <td>Need Attention</td>\n",
              "    </tr>\n",
              "  </tbody>\n",
              "</table>\n",
              "</div>"
            ],
            "text/plain": [
              "   PartnerID             BusinessName        Contact         Prev Cohort\n",
              "0       7311            Mobile Source  8801511118899      Need Attention\n",
              "1      19496      Western Mobile Fair     1626004444  Potential Loyalist\n",
              "2      22302           NB Electronics  8801610189210  Potential Loyalist\n",
              "3      22675  Golden Plus Electronics  8801914112984             At Risk\n",
              "4      31562        Power Electronics  8801828583611      Need Attention"
            ]
          },
          "metadata": {},
          "execution_count": 3
        }
      ]
    },
    {
      "cell_type": "code",
      "metadata": {
        "colab": {
          "base_uri": "https://localhost:8080/",
          "height": 206
        },
        "id": "RAiLVWRTJ69K",
        "outputId": "8f991246-fba8-4f15-949d-911574292289"
      },
      "source": [
        "rev_df= df[['PartnerID','BusinessName','Prev Cohort']]\n",
        "rev_df.head()"
      ],
      "execution_count": null,
      "outputs": [
        {
          "output_type": "execute_result",
          "data": {
            "text/html": [
              "<div>\n",
              "<style scoped>\n",
              "    .dataframe tbody tr th:only-of-type {\n",
              "        vertical-align: middle;\n",
              "    }\n",
              "\n",
              "    .dataframe tbody tr th {\n",
              "        vertical-align: top;\n",
              "    }\n",
              "\n",
              "    .dataframe thead th {\n",
              "        text-align: right;\n",
              "    }\n",
              "</style>\n",
              "<table border=\"1\" class=\"dataframe\">\n",
              "  <thead>\n",
              "    <tr style=\"text-align: right;\">\n",
              "      <th></th>\n",
              "      <th>PartnerID</th>\n",
              "      <th>BusinessName</th>\n",
              "      <th>Prev Cohort</th>\n",
              "    </tr>\n",
              "  </thead>\n",
              "  <tbody>\n",
              "    <tr>\n",
              "      <th>0</th>\n",
              "      <td>7311</td>\n",
              "      <td>Mobile Source</td>\n",
              "      <td>Champion</td>\n",
              "    </tr>\n",
              "    <tr>\n",
              "      <th>1</th>\n",
              "      <td>19496</td>\n",
              "      <td>Western Mobile Fair</td>\n",
              "      <td>Champion</td>\n",
              "    </tr>\n",
              "    <tr>\n",
              "      <th>2</th>\n",
              "      <td>22302</td>\n",
              "      <td>NB Electronics</td>\n",
              "      <td>Champion</td>\n",
              "    </tr>\n",
              "    <tr>\n",
              "      <th>3</th>\n",
              "      <td>22675</td>\n",
              "      <td>Golden Plus Electronics</td>\n",
              "      <td>Champion</td>\n",
              "    </tr>\n",
              "    <tr>\n",
              "      <th>4</th>\n",
              "      <td>31562</td>\n",
              "      <td>Power Electronics</td>\n",
              "      <td>Champion</td>\n",
              "    </tr>\n",
              "  </tbody>\n",
              "</table>\n",
              "</div>"
            ],
            "text/plain": [
              "   PartnerID             BusinessName Prev Cohort\n",
              "0       7311            Mobile Source    Champion\n",
              "1      19496      Western Mobile Fair    Champion\n",
              "2      22302           NB Electronics    Champion\n",
              "3      22675  Golden Plus Electronics    Champion\n",
              "4      31562        Power Electronics    Champion"
            ]
          },
          "metadata": {},
          "execution_count": 12
        }
      ]
    },
    {
      "cell_type": "code",
      "metadata": {
        "id": "NO4WayG8MMNM"
      },
      "source": [
        "newDF= df['PartnerID']>=31562"
      ],
      "execution_count": null,
      "outputs": []
    },
    {
      "cell_type": "code",
      "metadata": {
        "colab": {
          "base_uri": "https://localhost:8080/"
        },
        "id": "04np-JNvMaGA",
        "outputId": "2d8600fd-68fd-45b4-d74f-f0b51366c6c8"
      },
      "source": [
        "newDF.head()\n"
      ],
      "execution_count": null,
      "outputs": [
        {
          "output_type": "execute_result",
          "data": {
            "text/plain": [
              "0    False\n",
              "1    False\n",
              "2    False\n",
              "3    False\n",
              "4     True\n",
              "Name: PartnerID, dtype: bool"
            ]
          },
          "metadata": {},
          "execution_count": 14
        }
      ]
    },
    {
      "cell_type": "code",
      "metadata": {
        "colab": {
          "base_uri": "https://localhost:8080/",
          "height": 206
        },
        "id": "SC6RP1OoMe_0",
        "outputId": "91875d4d-57ef-4764-9496-36da34b6d8d7"
      },
      "source": [
        "newDF2= df[df['PartnerID']>=31562]\n",
        "newDF2.head()"
      ],
      "execution_count": null,
      "outputs": [
        {
          "output_type": "execute_result",
          "data": {
            "text/html": [
              "<div>\n",
              "<style scoped>\n",
              "    .dataframe tbody tr th:only-of-type {\n",
              "        vertical-align: middle;\n",
              "    }\n",
              "\n",
              "    .dataframe tbody tr th {\n",
              "        vertical-align: top;\n",
              "    }\n",
              "\n",
              "    .dataframe thead th {\n",
              "        text-align: right;\n",
              "    }\n",
              "</style>\n",
              "<table border=\"1\" class=\"dataframe\">\n",
              "  <thead>\n",
              "    <tr style=\"text-align: right;\">\n",
              "      <th></th>\n",
              "      <th>PartnerID</th>\n",
              "      <th>BusinessName</th>\n",
              "      <th>Contact</th>\n",
              "      <th>Prev Cohort</th>\n",
              "    </tr>\n",
              "  </thead>\n",
              "  <tbody>\n",
              "    <tr>\n",
              "      <th>4</th>\n",
              "      <td>31562</td>\n",
              "      <td>Power Electronics</td>\n",
              "      <td>8801828583611</td>\n",
              "      <td>Champion</td>\n",
              "    </tr>\n",
              "    <tr>\n",
              "      <th>5</th>\n",
              "      <td>39969</td>\n",
              "      <td>Orange Telecom</td>\n",
              "      <td>1787145659</td>\n",
              "      <td>Champion</td>\n",
              "    </tr>\n",
              "    <tr>\n",
              "      <th>6</th>\n",
              "      <td>40137</td>\n",
              "      <td>Raiyan Telecom</td>\n",
              "      <td>1711686000</td>\n",
              "      <td>Champion</td>\n",
              "    </tr>\n",
              "    <tr>\n",
              "      <th>7</th>\n",
              "      <td>50082</td>\n",
              "      <td>Imran Electronics</td>\n",
              "      <td>8801745546444</td>\n",
              "      <td>Champion</td>\n",
              "    </tr>\n",
              "    <tr>\n",
              "      <th>8</th>\n",
              "      <td>70865</td>\n",
              "      <td>Bhuiyan Smart Point</td>\n",
              "      <td>8801994382652</td>\n",
              "      <td>Champion</td>\n",
              "    </tr>\n",
              "  </tbody>\n",
              "</table>\n",
              "</div>"
            ],
            "text/plain": [
              "   PartnerID          BusinessName        Contact Prev Cohort\n",
              "4      31562     Power Electronics  8801828583611    Champion\n",
              "5      39969        Orange Telecom     1787145659    Champion\n",
              "6      40137        Raiyan Telecom     1711686000    Champion\n",
              "7      50082     Imran Electronics  8801745546444    Champion\n",
              "8      70865  Bhuiyan Smart Point   8801994382652    Champion"
            ]
          },
          "metadata": {},
          "execution_count": 16
        }
      ]
    },
    {
      "cell_type": "code",
      "metadata": {
        "id": "MTg_FWG1NTDA"
      },
      "source": [
        "newDF2.to_csv(\"revRFME.csv\")"
      ],
      "execution_count": null,
      "outputs": []
    },
    {
      "cell_type": "code",
      "metadata": {
        "colab": {
          "base_uri": "https://localhost:8080/",
          "height": 206
        },
        "id": "JvFiqwFsUdYE",
        "outputId": "f5065653-9026-4514-ee5e-4091aabdd292"
      },
      "source": [
        "reREAD= pd.read_csv(\"revRFME.csv\")\n",
        "reREAD.head()"
      ],
      "execution_count": null,
      "outputs": [
        {
          "output_type": "execute_result",
          "data": {
            "text/html": [
              "<div>\n",
              "<style scoped>\n",
              "    .dataframe tbody tr th:only-of-type {\n",
              "        vertical-align: middle;\n",
              "    }\n",
              "\n",
              "    .dataframe tbody tr th {\n",
              "        vertical-align: top;\n",
              "    }\n",
              "\n",
              "    .dataframe thead th {\n",
              "        text-align: right;\n",
              "    }\n",
              "</style>\n",
              "<table border=\"1\" class=\"dataframe\">\n",
              "  <thead>\n",
              "    <tr style=\"text-align: right;\">\n",
              "      <th></th>\n",
              "      <th>Unnamed: 0</th>\n",
              "      <th>PartnerID</th>\n",
              "      <th>BusinessName</th>\n",
              "      <th>Contact</th>\n",
              "      <th>Prev Cohort</th>\n",
              "    </tr>\n",
              "  </thead>\n",
              "  <tbody>\n",
              "    <tr>\n",
              "      <th>0</th>\n",
              "      <td>4</td>\n",
              "      <td>31562</td>\n",
              "      <td>Power Electronics</td>\n",
              "      <td>8801828583611</td>\n",
              "      <td>Champion</td>\n",
              "    </tr>\n",
              "    <tr>\n",
              "      <th>1</th>\n",
              "      <td>5</td>\n",
              "      <td>39969</td>\n",
              "      <td>Orange Telecom</td>\n",
              "      <td>1787145659</td>\n",
              "      <td>Champion</td>\n",
              "    </tr>\n",
              "    <tr>\n",
              "      <th>2</th>\n",
              "      <td>6</td>\n",
              "      <td>40137</td>\n",
              "      <td>Raiyan Telecom</td>\n",
              "      <td>1711686000</td>\n",
              "      <td>Champion</td>\n",
              "    </tr>\n",
              "    <tr>\n",
              "      <th>3</th>\n",
              "      <td>7</td>\n",
              "      <td>50082</td>\n",
              "      <td>Imran Electronics</td>\n",
              "      <td>8801745546444</td>\n",
              "      <td>Champion</td>\n",
              "    </tr>\n",
              "    <tr>\n",
              "      <th>4</th>\n",
              "      <td>8</td>\n",
              "      <td>70865</td>\n",
              "      <td>Bhuiyan Smart Point</td>\n",
              "      <td>8801994382652</td>\n",
              "      <td>Champion</td>\n",
              "    </tr>\n",
              "  </tbody>\n",
              "</table>\n",
              "</div>"
            ],
            "text/plain": [
              "   Unnamed: 0  PartnerID          BusinessName        Contact Prev Cohort\n",
              "0           4      31562     Power Electronics  8801828583611    Champion\n",
              "1           5      39969        Orange Telecom     1787145659    Champion\n",
              "2           6      40137        Raiyan Telecom     1711686000    Champion\n",
              "3           7      50082     Imran Electronics  8801745546444    Champion\n",
              "4           8      70865  Bhuiyan Smart Point   8801994382652    Champion"
            ]
          },
          "metadata": {},
          "execution_count": 19
        }
      ]
    },
    {
      "cell_type": "code",
      "metadata": {
        "colab": {
          "base_uri": "https://localhost:8080/"
        },
        "id": "PB14y_gLjCnW",
        "outputId": "6f921d66-92cd-45b2-f8a2-7cddff5da8e8"
      },
      "source": [
        "X=np.array([[1,0,1],[2,2,2]]) \n",
        "out=X[0,1:3]\n",
        "out"
      ],
      "execution_count": null,
      "outputs": [
        {
          "output_type": "execute_result",
          "data": {
            "text/plain": [
              "array([0, 1])"
            ]
          },
          "metadata": {},
          "execution_count": 22
        }
      ]
    },
    {
      "cell_type": "code",
      "metadata": {
        "id": "S_wN07MUq88B"
      },
      "source": [
        ""
      ],
      "execution_count": null,
      "outputs": []
    }
  ]
}